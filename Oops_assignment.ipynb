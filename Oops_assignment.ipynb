{
  "nbformat": 4,
  "nbformat_minor": 0,
  "metadata": {
    "colab": {
      "provenance": []
    },
    "kernelspec": {
      "name": "python3",
      "display_name": "Python 3"
    },
    "language_info": {
      "name": "python"
    }
  },
  "cells": [
    {
      "cell_type": "markdown",
      "source": [
        "1.What are the five key concepts of Object-Oriented Programming (OOP)?"
      ],
      "metadata": {
        "id": "nWFD_vKi5TXC"
      }
    },
    {
      "cell_type": "markdown",
      "source": [
        "\n",
        "1.   Encapsulation: Bundling data and methods that operate on the data within one unit, like a class, and restricting access to some of the object's components.\n",
        "2.   Abstraction: Hiding complex implementation details and showing only the essential features of the object.\n",
        "3.   Inheritance: Mechanism where a new class inherits properties and behavior (methods) from another class.\n",
        "4.   Polymorphism: Ability to present the same interface for different data types, allowing methods to do different things based on the object it is acting upon.\n",
        "5.  Classes/Objects: Classes are blueprints for creating objects (instances), which are specific instances of classes.\n",
        "\n",
        "\n",
        "\n",
        "\n",
        "\n",
        "\n"
      ],
      "metadata": {
        "id": "CdFcahIi5XBK"
      }
    },
    {
      "cell_type": "markdown",
      "source": [
        "2.Write a Python class for a Car with attributes for make, model, and year. Include a method to display\n",
        "the car's information."
      ],
      "metadata": {
        "id": "eHjxdg_Q6HmN"
      }
    },
    {
      "cell_type": "code",
      "source": [
        "class Car:\n",
        "    def __init__(self, make, model, year):\n",
        "        self.make = make\n",
        "        self.model = model\n",
        "        self.year = year\n",
        "\n",
        "    def display_info(self):\n",
        "        print(f\"Car: {self.year} {self.make} {self.model}\")\n",
        "\n",
        "# Example usage:\n",
        "car = Car(\"Toyota\", \"Corolla\", 2020)\n",
        "car.display_info()\n"
      ],
      "metadata": {
        "colab": {
          "base_uri": "https://localhost:8080/"
        },
        "id": "ujYkmYK16QvG",
        "outputId": "f1f5f4af-0728-413d-c97b-51d17194f6be"
      },
      "execution_count": 3,
      "outputs": [
        {
          "output_type": "stream",
          "name": "stdout",
          "text": [
            "Car: 2020 Toyota Corolla\n"
          ]
        }
      ]
    },
    {
      "cell_type": "markdown",
      "source": [
        "3.Explain the difference between instance methods and class methods. Provide an example of each.\n",
        "\n"
      ],
      "metadata": {
        "id": "mbX3Xhv86ZPW"
      }
    },
    {
      "cell_type": "markdown",
      "source": [
        "\n",
        "**Instance Methods**: Operate on an instance of the class. They can access and modify object state. Defined with self as the first parameter.\n",
        "\n",
        "**Class Methods**: Operate on the class itself, not instances. They can modify class state that applies across all instances. Defined with cls as the first parameter and use the @classmethod decorator.\n"
      ],
      "metadata": {
        "id": "f5az_HbePLHP"
      }
    },
    {
      "cell_type": "code",
      "source": [
        "\n",
        "class Example:\n",
        "    count = 0\n",
        "\n",
        "    def __init__(self):\n",
        "        Example.count += 1\n",
        "\n",
        "    def instance_method(self):\n",
        "        print(\"This is an instance method.\")\n",
        "\n",
        "    @classmethod\n",
        "    def class_method(cls):\n",
        "        print(f\"This is a class method. Total instances: {cls.count}\")\n",
        "\n",
        "# Example usage:\n",
        "example = Example()\n",
        "example.instance_method()\n",
        "Example.class_method()\n"
      ],
      "metadata": {
        "colab": {
          "base_uri": "https://localhost:8080/"
        },
        "id": "ojhguQHZ9GD-",
        "outputId": "1d34f501-0040-404b-8acf-ed52540b1b81"
      },
      "execution_count": 6,
      "outputs": [
        {
          "output_type": "stream",
          "name": "stdout",
          "text": [
            "This is an instance method.\n",
            "This is a class method. Total instances: 1\n"
          ]
        }
      ]
    },
    {
      "cell_type": "markdown",
      "source": [
        "4.How does Python implement method overloading? Give an example.\n",
        "\n"
      ],
      "metadata": {
        "id": "2uDaAzj-6ZMv"
      }
    },
    {
      "cell_type": "markdown",
      "source": [
        "Python does not support method overloading in the traditional sense. Instead, we can use default arguments or variable-length arguments to achieve similar functionality."
      ],
      "metadata": {
        "id": "SI01VjUYPaGF"
      }
    },
    {
      "cell_type": "code",
      "source": [
        "class MathOperations:\n",
        "    def add(self, a, b, c=0):\n",
        "        return a + b + c\n",
        "\n",
        "# Example usage:\n",
        "math_op = MathOperations()\n",
        "print(math_op.add(1, 2))      # Output: 3\n",
        "print(math_op.add(1, 2, 3))   # Output: 6\n"
      ],
      "metadata": {
        "colab": {
          "base_uri": "https://localhost:8080/"
        },
        "id": "7x1hM0_gPZ1t",
        "outputId": "94ba9d1a-0d63-450f-94e0-47b47cb556c0"
      },
      "execution_count": 7,
      "outputs": [
        {
          "output_type": "stream",
          "name": "stdout",
          "text": [
            "3\n",
            "6\n"
          ]
        }
      ]
    },
    {
      "cell_type": "markdown",
      "source": [
        "5.What are the three types of access modifiers in Python? How are they denoted?\n",
        "\n"
      ],
      "metadata": {
        "id": "lkAFKRvT6ZKI"
      }
    },
    {
      "cell_type": "markdown",
      "source": [
        "**Public**: Accessible from anywhere. No underscore prefix.\n",
        "**Protected**: Accessible within the class and its subclasses. Single underscore prefix (_).\n",
        "**Private**: Accessible only within the class. Double underscore prefix (__)."
      ],
      "metadata": {
        "id": "pJKoyH8EPjhM"
      }
    },
    {
      "cell_type": "code",
      "source": [
        "class Example:\n",
        "    def __init__(self):\n",
        "        self.public = \"Public\"\n",
        "        self._protected = \"Protected\"\n",
        "        self.__private = \"Private\"\n"
      ],
      "metadata": {
        "id": "2-G3qPsPPkp3"
      },
      "execution_count": 9,
      "outputs": []
    },
    {
      "cell_type": "markdown",
      "source": [
        "6.Describe the five types of inheritance in Python. Provide a simple example of multiple inheritance.\n",
        "\n"
      ],
      "metadata": {
        "id": "DpbY4fZ76ZHR"
      }
    },
    {
      "cell_type": "markdown",
      "source": [
        "**Single Inheritance**: A class inherits from one superclass.\n",
        "**Multiple Inheritance**: A class inherits from more than one superclass.\n",
        "**Multilevel Inheritance**: A class inherits from a superclass, which in turn inherits from another superclass.\n",
        "**Hierarchical Inheritance**: Multiple classes inherit from a single superclass.\n",
        "**Hybrid Inheritance**: A combination of two or more types of inheritance."
      ],
      "metadata": {
        "id": "yu04ShaiP2u8"
      }
    },
    {
      "cell_type": "code",
      "source": [
        "class Base1:\n",
        "    def method_base1(self):\n",
        "        print(\"Base1 method\")\n",
        "\n",
        "class Base2:\n",
        "    def method_base2(self):\n",
        "        print(\"Base2 method\")\n",
        "\n",
        "class Derived(Base1, Base2):\n",
        "    pass\n",
        "\n",
        "# Example usage:\n",
        "d = Derived()\n",
        "d.method_base1()\n",
        "d.method_base2()\n"
      ],
      "metadata": {
        "colab": {
          "base_uri": "https://localhost:8080/"
        },
        "id": "yCug_B0UP-jL",
        "outputId": "80de2c58-3e3a-4960-9e56-f903534c9d25"
      },
      "execution_count": 10,
      "outputs": [
        {
          "output_type": "stream",
          "name": "stdout",
          "text": [
            "Base1 method\n",
            "Base2 method\n"
          ]
        }
      ]
    },
    {
      "cell_type": "markdown",
      "source": [
        "7.What is the Method Resolution Order (MRO) in Python? How can you retrieve it programmatically?\n",
        "\n"
      ],
      "metadata": {
        "id": "GTe-8HmY6ZEa"
      }
    },
    {
      "cell_type": "markdown",
      "source": [
        "MRO is the order in which base classes are searched when executing a method. Python uses the C3 linearization algorithm for MRO.\n",
        "\n",
        "You can retrieve it using the __mro__ attribute or mro() method."
      ],
      "metadata": {
        "id": "eXq434CaQEwm"
      }
    },
    {
      "cell_type": "code",
      "source": [
        "class A: pass\n",
        "class B(A): pass\n",
        "class C(B): pass\n",
        "\n",
        "print(C.__mro__)\n",
        "# or\n",
        "print(C.mro())\n"
      ],
      "metadata": {
        "colab": {
          "base_uri": "https://localhost:8080/"
        },
        "id": "FxXK7_1t9FOF",
        "outputId": "e290dc50-3eff-4414-af03-054ca0f9f6e8"
      },
      "execution_count": 11,
      "outputs": [
        {
          "output_type": "stream",
          "name": "stdout",
          "text": [
            "(<class '__main__.C'>, <class '__main__.B'>, <class '__main__.A'>, <class 'object'>)\n",
            "[<class '__main__.C'>, <class '__main__.B'>, <class '__main__.A'>, <class 'object'>]\n"
          ]
        }
      ]
    },
    {
      "cell_type": "markdown",
      "source": [
        "8.Create an abstract base class Shape with an abstract method area(). Then create two subclasses\n",
        "Circle and Rectangle that implement the area() method.\n",
        "\n"
      ],
      "metadata": {
        "id": "_iwzuW2t6ZBj"
      }
    },
    {
      "cell_type": "code",
      "source": [
        "from abc import ABC, abstractmethod\n",
        "import math\n",
        "\n",
        "class Shape(ABC):\n",
        "    @abstractmethod\n",
        "    def area(self):\n",
        "        pass\n",
        "\n",
        "class Circle(Shape):\n",
        "    def __init__(self, radius):\n",
        "        self.radius = radius\n",
        "\n",
        "    def area(self):\n",
        "        return math.pi * self.radius ** 2\n",
        "\n",
        "class Rectangle(Shape):\n",
        "    def __init__(self, width, height):\n",
        "        self.width = width\n",
        "        self.height = height\n",
        "\n",
        "    def area(self):\n",
        "        return self.width * self.height\n",
        "\n",
        "# Example usage:\n",
        "circle = Circle(5)\n",
        "rectangle = Rectangle(4, 6)\n",
        "print(circle.area())\n",
        "print(rectangle.area())\n"
      ],
      "metadata": {
        "colab": {
          "base_uri": "https://localhost:8080/"
        },
        "id": "qLLD4euOQLIJ",
        "outputId": "2ba4f7d4-1663-455a-e735-e517712f2dc7"
      },
      "execution_count": 12,
      "outputs": [
        {
          "output_type": "stream",
          "name": "stdout",
          "text": [
            "78.53981633974483\n",
            "24\n"
          ]
        }
      ]
    },
    {
      "cell_type": "markdown",
      "source": [
        "9.Demonstrate polymorphism by creating a function that can work with different shape objects to calculate\n",
        "and print their areas.\n",
        "\n"
      ],
      "metadata": {
        "id": "J8vPsR966Y-t"
      }
    },
    {
      "cell_type": "code",
      "source": [
        "def print_area(shape):\n",
        "    print(f\"The area is: {shape.area()}\")\n",
        "\n",
        "# Example usage:\n",
        "print_area(circle)\n",
        "print_area(rectangle)\n"
      ],
      "metadata": {
        "colab": {
          "base_uri": "https://localhost:8080/"
        },
        "id": "sSbewDQMQQCd",
        "outputId": "2305c691-93bf-4fef-e78e-d4cff185cccb"
      },
      "execution_count": 13,
      "outputs": [
        {
          "output_type": "stream",
          "name": "stdout",
          "text": [
            "The area is: 78.53981633974483\n",
            "The area is: 24\n"
          ]
        }
      ]
    },
    {
      "cell_type": "markdown",
      "source": [
        "10.Implement encapsulation in a BankAccount class with private attributes for balance and\n",
        "account_number. Include methods for deposit, withdrawal, and balance inquiry.\n",
        "\n"
      ],
      "metadata": {
        "id": "T8JElh_U6Y7V"
      }
    },
    {
      "cell_type": "code",
      "source": [
        "class BankAccount:\n",
        "    def __init__(self, account_number, balance=0):\n",
        "        self.__account_number = account_number\n",
        "        self.__balance = balance\n",
        "\n",
        "    def deposit(self, amount):\n",
        "        if amount > 0:\n",
        "            self.__balance += amount\n",
        "            print(f\"Deposited: {amount}\")\n",
        "        else:\n",
        "            print(\"Invalid deposit amount.\")\n",
        "\n",
        "    def withdraw(self, amount):\n",
        "        if 0 < amount <= self.__balance:\n",
        "            self.__balance -= amount\n",
        "            print(f\"Withdrew: {amount}\")\n",
        "        else:\n",
        "            print(\"Invalid withdrawal amount or insufficient funds.\")\n",
        "\n",
        "    def get_balance(self):\n",
        "        return self.__balance\n",
        "\n",
        "# Example usage:\n",
        "account = BankAccount(\"123456789\")\n",
        "account.deposit(100)\n",
        "account.withdraw(50)\n",
        "print(account.get_balance())\n"
      ],
      "metadata": {
        "colab": {
          "base_uri": "https://localhost:8080/"
        },
        "id": "JF9JsREyQS4N",
        "outputId": "b76d048c-bac0-4412-f76c-d4db3a6694b0"
      },
      "execution_count": 14,
      "outputs": [
        {
          "output_type": "stream",
          "name": "stdout",
          "text": [
            "Deposited: 100\n",
            "Withdrew: 50\n",
            "50\n"
          ]
        }
      ]
    },
    {
      "cell_type": "markdown",
      "source": [
        "11.Write a class that overrides the __str__ and __add__ magic methods. What will these methods allow\n",
        "you to do?\n",
        "\n"
      ],
      "metadata": {
        "id": "6iZ8LSiD6Y1j"
      }
    },
    {
      "cell_type": "code",
      "source": [
        "class Vector:\n",
        "    def __init__(self, x, y):\n",
        "        self.x = x\n",
        "        self.y = y\n",
        "\n",
        "    def __str__(self):\n",
        "        return f\"Vector({self.x}, {self.y})\"\n",
        "\n",
        "    def __add__(self, other):\n",
        "        return Vector(self.x + other.x, self.y + other.y)\n",
        "\n",
        "# Example usage:\n",
        "v1 = Vector(1, 2)\n",
        "v2 = Vector(3, 4)\n",
        "print(v1)          # Output: Vector(1, 2)\n",
        "print(v1 + v2)     # Output: Vector(4, 6)\n"
      ],
      "metadata": {
        "colab": {
          "base_uri": "https://localhost:8080/"
        },
        "id": "c3eKYYY7QXyT",
        "outputId": "380a0ba7-23fa-43a8-973f-7c219fa6cc71"
      },
      "execution_count": 15,
      "outputs": [
        {
          "output_type": "stream",
          "name": "stdout",
          "text": [
            "Vector(1, 2)\n",
            "Vector(4, 6)\n"
          ]
        }
      ]
    },
    {
      "cell_type": "markdown",
      "source": [
        "12.Create a decorator that measures and prints the execution time of a function.\n",
        "\n"
      ],
      "metadata": {
        "id": "tiwpgNG76YyM"
      }
    },
    {
      "cell_type": "code",
      "source": [
        "import time\n",
        "\n",
        "def timer(func):\n",
        "    def wrapper(*args, **kwargs):\n",
        "        start_time = time.time()\n",
        "        result = func(*args, **kwargs)\n",
        "        end_time = time.time()\n",
        "        print(f\"Execution time: {end_time - start_time:.4f} seconds\")\n",
        "        return result\n",
        "    return wrapper\n",
        "\n",
        "@timer\n",
        "def example_function():\n",
        "    time.sleep(1)\n",
        "\n",
        "# Example usage:\n",
        "example_function()\n"
      ],
      "metadata": {
        "colab": {
          "base_uri": "https://localhost:8080/"
        },
        "id": "KkzvgqbPQcTn",
        "outputId": "be75c33f-5e05-46d6-d2ec-24868479cd8e"
      },
      "execution_count": 16,
      "outputs": [
        {
          "output_type": "stream",
          "name": "stdout",
          "text": [
            "Execution time: 1.0002 seconds\n"
          ]
        }
      ]
    },
    {
      "cell_type": "markdown",
      "source": [
        "13.Explain the concept of the Diamond Problem in multiple inheritance. How does Python resolve it?\n",
        "\n"
      ],
      "metadata": {
        "id": "i14dY4UX6Yuj"
      }
    },
    {
      "cell_type": "markdown",
      "source": [
        "The Diamond Problem occurs when a class inherits from two classes that have a common base class. Python resolves it using the C3 linearization algorithm, ensuring a consistent method resolution order."
      ],
      "metadata": {
        "id": "DqyUahkjQhTq"
      }
    },
    {
      "cell_type": "code",
      "source": [
        "class A:\n",
        "    def method(self):\n",
        "        print(\"A method\")\n",
        "\n",
        "class B(A):\n",
        "    def method(self):\n",
        "        print(\"B method\")\n",
        "\n",
        "class C(A):\n",
        "    def method(self):\n",
        "        print(\"C method\")\n",
        "\n",
        "class D(B, C):\n",
        "    pass\n",
        "\n",
        "# Example usage:\n",
        "d = D()\n",
        "d.method()  # Output: B method\n"
      ],
      "metadata": {
        "colab": {
          "base_uri": "https://localhost:8080/"
        },
        "id": "fmmRYAffQinR",
        "outputId": "c35bff1a-ac29-4fe0-9c7b-01ff8de0537e"
      },
      "execution_count": 17,
      "outputs": [
        {
          "output_type": "stream",
          "name": "stdout",
          "text": [
            "B method\n"
          ]
        }
      ]
    },
    {
      "cell_type": "markdown",
      "source": [
        "14.Write a class method that keeps track of the number of instances created from a class.\n",
        "\n"
      ],
      "metadata": {
        "id": "chX4wxc_6Yok"
      }
    },
    {
      "cell_type": "code",
      "source": [
        "class InstanceCounter:\n",
        "    count = 0\n",
        "\n",
        "    def __init__(self):\n",
        "        InstanceCounter.count += 1\n",
        "\n",
        "    @classmethod\n",
        "    def get_instance_count(cls):\n",
        "        return cls.count\n",
        "\n",
        "# Example usage:\n",
        "a = InstanceCounter()\n",
        "b = InstanceCounter()\n",
        "print(InstanceCounter.get_instance_count())  # Output: 2\n"
      ],
      "metadata": {
        "colab": {
          "base_uri": "https://localhost:8080/"
        },
        "id": "7G92jVhhQmK4",
        "outputId": "be441f6a-4d1c-41cf-9189-b11a23c03123"
      },
      "execution_count": 18,
      "outputs": [
        {
          "output_type": "stream",
          "name": "stdout",
          "text": [
            "2\n"
          ]
        }
      ]
    },
    {
      "cell_type": "markdown",
      "source": [
        "15.Implement a static method in a class that checks if a given year is a leap year."
      ],
      "metadata": {
        "id": "RcpPEvRr6YdG"
      }
    },
    {
      "cell_type": "code",
      "source": [
        "class Year:\n",
        "    @staticmethod\n",
        "    def is_leap_year(year):\n",
        "        return year % 4 == 0 and (year % 100 != 0 or year % 400 == 0)\n",
        "\n",
        "# Example usage:\n",
        "print(Year.is_leap_year(2020))  # Output: True\n",
        "print(Year.is_leap_year(2021))  # Output: False\n"
      ],
      "metadata": {
        "colab": {
          "base_uri": "https://localhost:8080/"
        },
        "id": "XU9X1XlbQonq",
        "outputId": "319a1d39-2841-4a2d-f526-a8bcd51d5a86"
      },
      "execution_count": 19,
      "outputs": [
        {
          "output_type": "stream",
          "name": "stdout",
          "text": [
            "True\n",
            "False\n"
          ]
        }
      ]
    }
  ]
}